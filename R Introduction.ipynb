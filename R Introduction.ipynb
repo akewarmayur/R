{
 "cells": [
  {
   "cell_type": "code",
   "execution_count": 1,
   "metadata": {
    "collapsed": true
   },
   "outputs": [],
   "source": [
    "a <- c(1,2,3,4,5)"
   ]
  },
  {
   "cell_type": "code",
   "execution_count": 2,
   "metadata": {},
   "outputs": [
    {
     "data": {
      "text/html": [
       "<ol class=list-inline>\n",
       "\t<li>1</li>\n",
       "\t<li>2</li>\n",
       "\t<li>3</li>\n",
       "\t<li>4</li>\n",
       "\t<li>5</li>\n",
       "</ol>\n"
      ],
      "text/latex": [
       "\\begin{enumerate*}\n",
       "\\item 1\n",
       "\\item 2\n",
       "\\item 3\n",
       "\\item 4\n",
       "\\item 5\n",
       "\\end{enumerate*}\n"
      ],
      "text/markdown": [
       "1. 1\n",
       "2. 2\n",
       "3. 3\n",
       "4. 4\n",
       "5. 5\n",
       "\n",
       "\n"
      ],
      "text/plain": [
       "[1] 1 2 3 4 5"
      ]
     },
     "metadata": {},
     "output_type": "display_data"
    }
   ],
   "source": [
    "a"
   ]
  },
  {
   "cell_type": "code",
   "execution_count": 3,
   "metadata": {
    "collapsed": true
   },
   "outputs": [],
   "source": [
    "names(a) <- c('a','b','c','d','e')"
   ]
  },
  {
   "cell_type": "code",
   "execution_count": 4,
   "metadata": {},
   "outputs": [
    {
     "data": {
      "text/html": [
       "<dl class=dl-horizontal>\n",
       "\t<dt>a</dt>\n",
       "\t\t<dd>1</dd>\n",
       "\t<dt>b</dt>\n",
       "\t\t<dd>2</dd>\n",
       "\t<dt>c</dt>\n",
       "\t\t<dd>3</dd>\n",
       "\t<dt>d</dt>\n",
       "\t\t<dd>4</dd>\n",
       "\t<dt>e</dt>\n",
       "\t\t<dd>5</dd>\n",
       "</dl>\n"
      ],
      "text/latex": [
       "\\begin{description*}\n",
       "\\item[a] 1\n",
       "\\item[b] 2\n",
       "\\item[c] 3\n",
       "\\item[d] 4\n",
       "\\item[e] 5\n",
       "\\end{description*}\n"
      ],
      "text/markdown": [
       "a\n",
       ":   1b\n",
       ":   2c\n",
       ":   3d\n",
       ":   4e\n",
       ":   5\n",
       "\n"
      ],
      "text/plain": [
       "a b c d e \n",
       "1 2 3 4 5 "
      ]
     },
     "metadata": {},
     "output_type": "display_data"
    }
   ],
   "source": [
    "a"
   ]
  },
  {
   "cell_type": "code",
   "execution_count": 11,
   "metadata": {
    "collapsed": true
   },
   "outputs": [],
   "source": [
    "c <- c(1,2,3)\n",
    "d <- c(4,5,6)\n",
    "mat <- matrix(c(c,d), ncol = 3)"
   ]
  },
  {
   "cell_type": "code",
   "execution_count": 12,
   "metadata": {},
   "outputs": [
    {
     "data": {
      "text/html": [
       "<table>\n",
       "<tbody>\n",
       "\t<tr><td>1</td><td>3</td><td>5</td></tr>\n",
       "\t<tr><td>2</td><td>4</td><td>6</td></tr>\n",
       "</tbody>\n",
       "</table>\n"
      ],
      "text/latex": [
       "\\begin{tabular}{lll}\n",
       "\t 1 & 3 & 5\\\\\n",
       "\t 2 & 4 & 6\\\\\n",
       "\\end{tabular}\n"
      ],
      "text/markdown": [
       "\n",
       "| 1 | 3 | 5 | \n",
       "| 2 | 4 | 6 | \n",
       "\n",
       "\n"
      ],
      "text/plain": [
       "     [,1] [,2] [,3]\n",
       "[1,] 1    3    5   \n",
       "[2,] 2    4    6   "
      ]
     },
     "metadata": {},
     "output_type": "display_data"
    }
   ],
   "source": [
    "mat"
   ]
  },
  {
   "cell_type": "code",
   "execution_count": 13,
   "metadata": {},
   "outputs": [
    {
     "data": {
      "text/html": [
       "<table>\n",
       "<thead><tr><th></th><th scope=col>p</th><th scope=col>q</th><th scope=col>r</th></tr></thead>\n",
       "<tbody>\n",
       "\t<tr><th scope=row>x</th><td>1</td><td>3</td><td>5</td></tr>\n",
       "\t<tr><th scope=row>y</th><td>2</td><td>4</td><td>6</td></tr>\n",
       "</tbody>\n",
       "</table>\n"
      ],
      "text/latex": [
       "\\begin{tabular}{r|lll}\n",
       "  & p & q & r\\\\\n",
       "\\hline\n",
       "\tx & 1 & 3 & 5\\\\\n",
       "\ty & 2 & 4 & 6\\\\\n",
       "\\end{tabular}\n"
      ],
      "text/markdown": [
       "\n",
       "| <!--/--> | p | q | r | \n",
       "|---|---|\n",
       "| x | 1 | 3 | 5 | \n",
       "| y | 2 | 4 | 6 | \n",
       "\n",
       "\n"
      ],
      "text/plain": [
       "  p q r\n",
       "x 1 3 5\n",
       "y 2 4 6"
      ]
     },
     "metadata": {},
     "output_type": "display_data"
    }
   ],
   "source": [
    "rownames(mat) <- c('x','y')\n",
    "colnames(mat) <- c('p','q','r')\n",
    "mat"
   ]
  },
  {
   "cell_type": "code",
   "execution_count": 15,
   "metadata": {},
   "outputs": [
    {
     "name": "stderr",
     "output_type": "stream",
     "text": [
      "Warning message in rbind(mat, a):\n",
      "“number of columns of result is not a multiple of vector length (arg 2)”"
     ]
    },
    {
     "data": {
      "text/html": [
       "<table>\n",
       "<thead><tr><th></th><th scope=col>p</th><th scope=col>q</th><th scope=col>r</th></tr></thead>\n",
       "<tbody>\n",
       "\t<tr><th scope=row>x</th><td>1</td><td>3</td><td>5</td></tr>\n",
       "\t<tr><th scope=row>y</th><td>2</td><td>4</td><td>6</td></tr>\n",
       "\t<tr><th scope=row>a</th><td>1</td><td>2</td><td>3</td></tr>\n",
       "</tbody>\n",
       "</table>\n"
      ],
      "text/latex": [
       "\\begin{tabular}{r|lll}\n",
       "  & p & q & r\\\\\n",
       "\\hline\n",
       "\tx & 1 & 3 & 5\\\\\n",
       "\ty & 2 & 4 & 6\\\\\n",
       "\ta & 1 & 2 & 3\\\\\n",
       "\\end{tabular}\n"
      ],
      "text/markdown": [
       "\n",
       "| <!--/--> | p | q | r | \n",
       "|---|---|---|\n",
       "| x | 1 | 3 | 5 | \n",
       "| y | 2 | 4 | 6 | \n",
       "| a | 1 | 2 | 3 | \n",
       "\n",
       "\n"
      ],
      "text/plain": [
       "  p q r\n",
       "x 1 3 5\n",
       "y 2 4 6\n",
       "a 1 2 3"
      ]
     },
     "metadata": {},
     "output_type": "display_data"
    }
   ],
   "source": [
    "rbind(mat,a)"
   ]
  },
  {
   "cell_type": "code",
   "execution_count": 16,
   "metadata": {},
   "outputs": [
    {
     "data": {
      "text/html": [
       "<table>\n",
       "<thead><tr><th></th><th scope=col>p</th><th scope=col>q</th><th scope=col>r</th></tr></thead>\n",
       "<tbody>\n",
       "\t<tr><th scope=row>x</th><td>1</td><td>3</td><td>5</td></tr>\n",
       "\t<tr><th scope=row>y</th><td>2</td><td>4</td><td>6</td></tr>\n",
       "</tbody>\n",
       "</table>\n"
      ],
      "text/latex": [
       "\\begin{tabular}{r|lll}\n",
       "  & p & q & r\\\\\n",
       "\\hline\n",
       "\tx & 1 & 3 & 5\\\\\n",
       "\ty & 2 & 4 & 6\\\\\n",
       "\\end{tabular}\n"
      ],
      "text/markdown": [
       "\n",
       "| <!--/--> | p | q | r | \n",
       "|---|---|\n",
       "| x | 1 | 3 | 5 | \n",
       "| y | 2 | 4 | 6 | \n",
       "\n",
       "\n"
      ],
      "text/plain": [
       "  p q r\n",
       "x 1 3 5\n",
       "y 2 4 6"
      ]
     },
     "metadata": {},
     "output_type": "display_data"
    }
   ],
   "source": [
    "mat"
   ]
  },
  {
   "cell_type": "code",
   "execution_count": 17,
   "metadata": {},
   "outputs": [
    {
     "data": {
      "text/html": [
       "3"
      ],
      "text/latex": [
       "3"
      ],
      "text/markdown": [
       "3"
      ],
      "text/plain": [
       "[1] 3"
      ]
     },
     "metadata": {},
     "output_type": "display_data"
    }
   ],
   "source": [
    "mat[1,2]"
   ]
  },
  {
   "cell_type": "code",
   "execution_count": 19,
   "metadata": {},
   "outputs": [
    {
     "data": {
      "text/html": [
       "<dl class=dl-horizontal>\n",
       "\t<dt>x</dt>\n",
       "\t\t<dd>1</dd>\n",
       "\t<dt>y</dt>\n",
       "\t\t<dd>2</dd>\n",
       "</dl>\n"
      ],
      "text/latex": [
       "\\begin{description*}\n",
       "\\item[x] 1\n",
       "\\item[y] 2\n",
       "\\end{description*}\n"
      ],
      "text/markdown": [
       "x\n",
       ":   1y\n",
       ":   2\n",
       "\n"
      ],
      "text/plain": [
       "x y \n",
       "1 2 "
      ]
     },
     "metadata": {},
     "output_type": "display_data"
    }
   ],
   "source": [
    "mat[,'p']"
   ]
  },
  {
   "cell_type": "code",
   "execution_count": 20,
   "metadata": {},
   "outputs": [
    {
     "data": {
      "text/html": [
       "<table>\n",
       "<thead><tr><th></th><th scope=col>p</th><th scope=col>q</th><th scope=col>r</th></tr></thead>\n",
       "<tbody>\n",
       "\t<tr><th scope=row>x</th><td>2 </td><td>6 </td><td>10</td></tr>\n",
       "\t<tr><th scope=row>y</th><td>4 </td><td>8 </td><td>12</td></tr>\n",
       "</tbody>\n",
       "</table>\n"
      ],
      "text/latex": [
       "\\begin{tabular}{r|lll}\n",
       "  & p & q & r\\\\\n",
       "\\hline\n",
       "\tx & 2  & 6  & 10\\\\\n",
       "\ty & 4  & 8  & 12\\\\\n",
       "\\end{tabular}\n"
      ],
      "text/markdown": [
       "\n",
       "| <!--/--> | p | q | r | \n",
       "|---|---|\n",
       "| x | 2  | 6  | 10 | \n",
       "| y | 4  | 8  | 12 | \n",
       "\n",
       "\n"
      ],
      "text/plain": [
       "  p q r \n",
       "x 2 6 10\n",
       "y 4 8 12"
      ]
     },
     "metadata": {},
     "output_type": "display_data"
    }
   ],
   "source": [
    "2 * mat"
   ]
  },
  {
   "cell_type": "code",
   "execution_count": 21,
   "metadata": {},
   "outputs": [
    {
     "data": {
      "text/html": [
       "<table>\n",
       "<thead><tr><th></th><th scope=col>p</th><th scope=col>q</th><th scope=col>r</th></tr></thead>\n",
       "<tbody>\n",
       "\t<tr><th scope=row>x</th><td>1</td><td>3</td><td>5</td></tr>\n",
       "\t<tr><th scope=row>y</th><td>2</td><td>4</td><td>6</td></tr>\n",
       "</tbody>\n",
       "</table>\n"
      ],
      "text/latex": [
       "\\begin{tabular}{r|lll}\n",
       "  & p & q & r\\\\\n",
       "\\hline\n",
       "\tx & 1 & 3 & 5\\\\\n",
       "\ty & 2 & 4 & 6\\\\\n",
       "\\end{tabular}\n"
      ],
      "text/markdown": [
       "\n",
       "| <!--/--> | p | q | r | \n",
       "|---|---|\n",
       "| x | 1 | 3 | 5 | \n",
       "| y | 2 | 4 | 6 | \n",
       "\n",
       "\n"
      ],
      "text/plain": [
       "  p q r\n",
       "x 1 3 5\n",
       "y 2 4 6"
      ]
     },
     "metadata": {},
     "output_type": "display_data"
    }
   ],
   "source": [
    "mat"
   ]
  },
  {
   "cell_type": "code",
   "execution_count": 22,
   "metadata": {
    "collapsed": true
   },
   "outputs": [],
   "source": [
    "mat = 2*mat"
   ]
  },
  {
   "cell_type": "code",
   "execution_count": 23,
   "metadata": {},
   "outputs": [
    {
     "data": {
      "text/html": [
       "<table>\n",
       "<thead><tr><th></th><th scope=col>p</th><th scope=col>q</th><th scope=col>r</th></tr></thead>\n",
       "<tbody>\n",
       "\t<tr><th scope=row>x</th><td>2 </td><td>6 </td><td>10</td></tr>\n",
       "\t<tr><th scope=row>y</th><td>4 </td><td>8 </td><td>12</td></tr>\n",
       "</tbody>\n",
       "</table>\n"
      ],
      "text/latex": [
       "\\begin{tabular}{r|lll}\n",
       "  & p & q & r\\\\\n",
       "\\hline\n",
       "\tx & 2  & 6  & 10\\\\\n",
       "\ty & 4  & 8  & 12\\\\\n",
       "\\end{tabular}\n"
      ],
      "text/markdown": [
       "\n",
       "| <!--/--> | p | q | r | \n",
       "|---|---|\n",
       "| x | 2  | 6  | 10 | \n",
       "| y | 4  | 8  | 12 | \n",
       "\n",
       "\n"
      ],
      "text/plain": [
       "  p q r \n",
       "x 2 6 10\n",
       "y 4 8 12"
      ]
     },
     "metadata": {},
     "output_type": "display_data"
    }
   ],
   "source": [
    "mat"
   ]
  },
  {
   "cell_type": "code",
   "execution_count": 25,
   "metadata": {},
   "outputs": [
    {
     "data": {
      "text/html": [
       "<table>\n",
       "<thead><tr><th scope=col>var1</th><th scope=col>var2</th><th scope=col>var3</th></tr></thead>\n",
       "<tbody>\n",
       "\t<tr><td>11    </td><td>Mayur </td><td>555   </td></tr>\n",
       "\t<tr><td>22    </td><td>Dhana </td><td> NA   </td></tr>\n",
       "\t<tr><td>33    </td><td>Soni  </td><td>777   </td></tr>\n",
       "\t<tr><td>44    </td><td>Dhanta</td><td>222   </td></tr>\n",
       "</tbody>\n",
       "</table>\n"
      ],
      "text/latex": [
       "\\begin{tabular}{r|lll}\n",
       " var1 & var2 & var3\\\\\n",
       "\\hline\n",
       "\t 11     & Mayur  & 555   \\\\\n",
       "\t 22     & Dhana  &  NA   \\\\\n",
       "\t 33     & Soni   & 777   \\\\\n",
       "\t 44     & Dhanta & 222   \\\\\n",
       "\\end{tabular}\n"
      ],
      "text/markdown": [
       "\n",
       "var1 | var2 | var3 | \n",
       "|---|---|---|---|\n",
       "| 11     | Mayur  | 555    | \n",
       "| 22     | Dhana  |  NA    | \n",
       "| 33     | Soni   | 777    | \n",
       "| 44     | Dhanta | 222    | \n",
       "\n",
       "\n"
      ],
      "text/plain": [
       "  var1 var2   var3\n",
       "1 11   Mayur  555 \n",
       "2 22   Dhana   NA \n",
       "3 33   Soni   777 \n",
       "4 44   Dhanta 222 "
      ]
     },
     "metadata": {},
     "output_type": "display_data"
    }
   ],
   "source": [
    "#data Frame\n",
    "var1 <- c(11,22,33,44)\n",
    "var2 <- c('Mayur','Dhana','Soni','Dhanta')\n",
    "var3 <- c(555,NA,777,222)\n",
    "df1 <- data.frame(var1,var2,var3)\n",
    "df1"
   ]
  },
  {
   "cell_type": "code",
   "execution_count": 29,
   "metadata": {},
   "outputs": [
    {
     "data": {
      "text/html": [
       "Mayur\n",
       "<details>\n",
       "\t<summary style=display:list-item;cursor:pointer>\n",
       "\t\t<strong>Levels</strong>:\n",
       "\t</summary>\n",
       "\t<ol class=list-inline>\n",
       "\t\t<li>'Dhana'</li>\n",
       "\t\t<li>'Dhanta'</li>\n",
       "\t\t<li>'Mayur'</li>\n",
       "\t\t<li>'Soni'</li>\n",
       "\t</ol>\n",
       "</details>"
      ],
      "text/latex": [
       "Mayur\n",
       "\\emph{Levels}: \\begin{enumerate*}\n",
       "\\item 'Dhana'\n",
       "\\item 'Dhanta'\n",
       "\\item 'Mayur'\n",
       "\\item 'Soni'\n",
       "\\end{enumerate*}\n"
      ],
      "text/markdown": [
       "Mayur\n",
       "**Levels**: 1. 'Dhana'\n",
       "2. 'Dhanta'\n",
       "3. 'Mayur'\n",
       "4. 'Soni'\n",
       "\n",
       "\n"
      ],
      "text/plain": [
       "[1] Mayur\n",
       "Levels: Dhana Dhanta Mayur Soni"
      ]
     },
     "metadata": {},
     "output_type": "display_data"
    }
   ],
   "source": [
    "df1[1,2]"
   ]
  },
  {
   "cell_type": "code",
   "execution_count": 31,
   "metadata": {},
   "outputs": [
    {
     "data": {
      "text/html": [
       "<table>\n",
       "<thead><tr><th scope=col>var1</th><th scope=col>var2</th><th scope=col>var3</th></tr></thead>\n",
       "<tbody>\n",
       "\t<tr><td>11   </td><td>Mayur</td><td>555  </td></tr>\n",
       "\t<tr><td>22   </td><td>Dhana</td><td> NA  </td></tr>\n",
       "</tbody>\n",
       "</table>\n"
      ],
      "text/latex": [
       "\\begin{tabular}{r|lll}\n",
       " var1 & var2 & var3\\\\\n",
       "\\hline\n",
       "\t 11    & Mayur & 555  \\\\\n",
       "\t 22    & Dhana &  NA  \\\\\n",
       "\\end{tabular}\n"
      ],
      "text/markdown": [
       "\n",
       "var1 | var2 | var3 | \n",
       "|---|---|\n",
       "| 11    | Mayur | 555   | \n",
       "| 22    | Dhana |  NA   | \n",
       "\n",
       "\n"
      ],
      "text/plain": [
       "  var1 var2  var3\n",
       "1 11   Mayur 555 \n",
       "2 22   Dhana  NA "
      ]
     },
     "metadata": {},
     "output_type": "display_data"
    }
   ],
   "source": [
    "df1[1:2,1:3]"
   ]
  },
  {
   "cell_type": "code",
   "execution_count": 32,
   "metadata": {},
   "outputs": [
    {
     "data": {
      "text/html": [
       "<ol class=list-inline>\n",
       "\t<li>Mayur</li>\n",
       "\t<li>Dhana</li>\n",
       "</ol>\n",
       "\n",
       "<details>\n",
       "\t<summary style=display:list-item;cursor:pointer>\n",
       "\t\t<strong>Levels</strong>:\n",
       "\t</summary>\n",
       "\t<ol class=list-inline>\n",
       "\t\t<li>'Dhana'</li>\n",
       "\t\t<li>'Dhanta'</li>\n",
       "\t\t<li>'Mayur'</li>\n",
       "\t\t<li>'Soni'</li>\n",
       "\t</ol>\n",
       "</details>"
      ],
      "text/latex": [
       "\\begin{enumerate*}\n",
       "\\item Mayur\n",
       "\\item Dhana\n",
       "\\end{enumerate*}\n",
       "\n",
       "\\emph{Levels}: \\begin{enumerate*}\n",
       "\\item 'Dhana'\n",
       "\\item 'Dhanta'\n",
       "\\item 'Mayur'\n",
       "\\item 'Soni'\n",
       "\\end{enumerate*}\n"
      ],
      "text/markdown": [
       "1. Mayur\n",
       "2. Dhana\n",
       "\n",
       "\n",
       "\n",
       "**Levels**: 1. 'Dhana'\n",
       "2. 'Dhanta'\n",
       "3. 'Mayur'\n",
       "4. 'Soni'\n",
       "\n",
       "\n"
      ],
      "text/plain": [
       "[1] Mayur Dhana\n",
       "Levels: Dhana Dhanta Mayur Soni"
      ]
     },
     "metadata": {},
     "output_type": "display_data"
    }
   ],
   "source": [
    "df1[1:2,'var2']"
   ]
  },
  {
   "cell_type": "code",
   "execution_count": 51,
   "metadata": {},
   "outputs": [
    {
     "ename": "ERROR",
     "evalue": "Error in `[.data.frame`(df1, 1:2, df1$var2): undefined columns selected\n",
     "output_type": "error",
     "traceback": [
      "Error in `[.data.frame`(df1, 1:2, df1$var2): undefined columns selected\nTraceback:\n",
      "1. df1[1:2, df1$var2]",
      "2. `[.data.frame`(df1, 1:2, df1$var2)",
      "3. stop(\"undefined columns selected\")"
     ]
    }
   ],
   "source": [
    "df1[1:2,df1$var2]"
   ]
  },
  {
   "cell_type": "code",
   "execution_count": 36,
   "metadata": {},
   "outputs": [
    {
     "data": {
      "text/html": [
       "<table>\n",
       "<thead><tr><th></th><th scope=col>var1</th><th scope=col>var2</th><th scope=col>var3</th></tr></thead>\n",
       "<tbody>\n",
       "\t<tr><th scope=row>3</th><td>33    </td><td>Soni  </td><td>777   </td></tr>\n",
       "\t<tr><th scope=row>4</th><td>44    </td><td>Dhanta</td><td>222   </td></tr>\n",
       "</tbody>\n",
       "</table>\n"
      ],
      "text/latex": [
       "\\begin{tabular}{r|lll}\n",
       "  & var1 & var2 & var3\\\\\n",
       "\\hline\n",
       "\t3 & 33     & Soni   & 777   \\\\\n",
       "\t4 & 44     & Dhanta & 222   \\\\\n",
       "\\end{tabular}\n"
      ],
      "text/markdown": [
       "\n",
       "| <!--/--> | var1 | var2 | var3 | \n",
       "|---|---|\n",
       "| 3 | 33     | Soni   | 777    | \n",
       "| 4 | 44     | Dhanta | 222    | \n",
       "\n",
       "\n"
      ],
      "text/plain": [
       "  var1 var2   var3\n",
       "3 33   Soni   777 \n",
       "4 44   Dhanta 222 "
      ]
     },
     "metadata": {},
     "output_type": "display_data"
    }
   ],
   "source": [
    "subset(df1,subset = var1 > 22)"
   ]
  },
  {
   "cell_type": "code",
   "execution_count": 39,
   "metadata": {},
   "outputs": [
    {
     "data": {
      "text/html": [
       "<table>\n",
       "<thead><tr><th></th><th scope=col>var2</th></tr></thead>\n",
       "<tbody>\n",
       "\t<tr><th scope=row>3</th><td>Soni  </td></tr>\n",
       "\t<tr><th scope=row>4</th><td>Dhanta</td></tr>\n",
       "</tbody>\n",
       "</table>\n"
      ],
      "text/latex": [
       "\\begin{tabular}{r|l}\n",
       "  & var2\\\\\n",
       "\\hline\n",
       "\t3 & Soni  \\\\\n",
       "\t4 & Dhanta\\\\\n",
       "\\end{tabular}\n"
      ],
      "text/markdown": [
       "\n",
       "| <!--/--> | var2 | \n",
       "|---|---|\n",
       "| 3 | Soni   | \n",
       "| 4 | Dhanta | \n",
       "\n",
       "\n"
      ],
      "text/plain": [
       "  var2  \n",
       "3 Soni  \n",
       "4 Dhanta"
      ]
     },
     "metadata": {},
     "output_type": "display_data"
    }
   ],
   "source": [
    "subset(df1,subset = var1 > 22, select = var2)"
   ]
  },
  {
   "cell_type": "code",
   "execution_count": 40,
   "metadata": {},
   "outputs": [
    {
     "data": {
      "text/html": [
       "<ol class=list-inline>\n",
       "\t<li>1</li>\n",
       "\t<li>2</li>\n",
       "\t<li>12</li>\n",
       "\t<li>3</li>\n",
       "\t<li>4</li>\n",
       "\t<li>9</li>\n",
       "\t<li>11</li>\n",
       "\t<li>6</li>\n",
       "\t<li>8</li>\n",
       "\t<li>5</li>\n",
       "\t<li>7</li>\n",
       "\t<li>10</li>\n",
       "</ol>\n"
      ],
      "text/latex": [
       "\\begin{enumerate*}\n",
       "\\item 1\n",
       "\\item 2\n",
       "\\item 12\n",
       "\\item 3\n",
       "\\item 4\n",
       "\\item 9\n",
       "\\item 11\n",
       "\\item 6\n",
       "\\item 8\n",
       "\\item 5\n",
       "\\item 7\n",
       "\\item 10\n",
       "\\end{enumerate*}\n"
      ],
      "text/markdown": [
       "1. 1\n",
       "2. 2\n",
       "3. 12\n",
       "4. 3\n",
       "5. 4\n",
       "6. 9\n",
       "7. 11\n",
       "8. 6\n",
       "9. 8\n",
       "10. 5\n",
       "11. 7\n",
       "12. 10\n",
       "\n",
       "\n"
      ],
      "text/plain": [
       " [1]  1  2 12  3  4  9 11  6  8  5  7 10"
      ]
     },
     "metadata": {},
     "output_type": "display_data"
    }
   ],
   "source": [
    "order(df1)"
   ]
  },
  {
   "cell_type": "code",
   "execution_count": 43,
   "metadata": {},
   "outputs": [
    {
     "data": {
      "text/html": [
       "<ol class=list-inline>\n",
       "\t<li>1</li>\n",
       "\t<li>2</li>\n",
       "\t<li>3</li>\n",
       "\t<li>4</li>\n",
       "</ol>\n"
      ],
      "text/latex": [
       "\\begin{enumerate*}\n",
       "\\item 1\n",
       "\\item 2\n",
       "\\item 3\n",
       "\\item 4\n",
       "\\end{enumerate*}\n"
      ],
      "text/markdown": [
       "1. 1\n",
       "2. 2\n",
       "3. 3\n",
       "4. 4\n",
       "\n",
       "\n"
      ],
      "text/plain": [
       "[1] 1 2 3 4"
      ]
     },
     "metadata": {},
     "output_type": "display_data"
    }
   ],
   "source": [
    "order(df1['var1'])"
   ]
  },
  {
   "cell_type": "code",
   "execution_count": 46,
   "metadata": {},
   "outputs": [
    {
     "data": {
      "text/html": [
       "<ol>\n",
       "\t<li><ol class=list-inline>\n",
       "\t<li>1</li>\n",
       "\t<li>2</li>\n",
       "\t<li>3</li>\n",
       "\t<li>4</li>\n",
       "\t<li>5</li>\n",
       "</ol>\n",
       "</li>\n",
       "\t<li>'ABC'</li>\n",
       "\t<li>'XYZ'</li>\n",
       "\t<li><ol class=list-inline>\n",
       "\t<li>'A'</li>\n",
       "\t<li>'C'</li>\n",
       "</ol>\n",
       "</li>\n",
       "\t<li><ol>\n",
       "\t<li>2</li>\n",
       "\t<li>3</li>\n",
       "\t<li>4</li>\n",
       "\t<li>5</li>\n",
       "\t<li>6</li>\n",
       "\t<li>7</li>\n",
       "</ol>\n",
       "</li>\n",
       "</ol>\n"
      ],
      "text/latex": [
       "\\begin{enumerate}\n",
       "\\item \\begin{enumerate*}\n",
       "\\item 1\n",
       "\\item 2\n",
       "\\item 3\n",
       "\\item 4\n",
       "\\item 5\n",
       "\\end{enumerate*}\n",
       "\n",
       "\\item 'ABC'\n",
       "\\item 'XYZ'\n",
       "\\item \\begin{enumerate*}\n",
       "\\item 'A'\n",
       "\\item 'C'\n",
       "\\end{enumerate*}\n",
       "\n",
       "\\item \\begin{enumerate}\n",
       "\\item 2\n",
       "\\item 3\n",
       "\\item 4\n",
       "\\item 5\n",
       "\\item 6\n",
       "\\item 7\n",
       "\\end{enumerate}\n",
       "\n",
       "\\end{enumerate}\n"
      ],
      "text/markdown": [
       "1. 1. 1\n",
       "2. 2\n",
       "3. 3\n",
       "4. 4\n",
       "5. 5\n",
       "\n",
       "\n",
       "\n",
       "2. 'ABC'\n",
       "3. 'XYZ'\n",
       "4. 1. 'A'\n",
       "2. 'C'\n",
       "\n",
       "\n",
       "\n",
       "5. 1. 2\n",
       "2. 3\n",
       "3. 4\n",
       "4. 5\n",
       "5. 6\n",
       "6. 7\n",
       "\n",
       "\n",
       "\n",
       "\n",
       "\n"
      ],
      "text/plain": [
       "[[1]]\n",
       "[1] 1 2 3 4 5\n",
       "\n",
       "[[2]]\n",
       "[1] \"ABC\"\n",
       "\n",
       "[[3]]\n",
       "[1] \"XYZ\"\n",
       "\n",
       "[[4]]\n",
       "[1] \"A\" \"C\"\n",
       "\n",
       "[[5]]\n",
       "[[5]][[1]]\n",
       "[1] 2\n",
       "\n",
       "[[5]][[2]]\n",
       "[1] 3\n",
       "\n",
       "[[5]][[3]]\n",
       "[1] 4\n",
       "\n",
       "[[5]][[4]]\n",
       "[1] 5\n",
       "\n",
       "[[5]][[5]]\n",
       "[1] 6\n",
       "\n",
       "[[5]][[6]]\n",
       "[1] 7\n",
       "\n"
      ]
     },
     "metadata": {},
     "output_type": "display_data"
    }
   ],
   "source": [
    "l1 <- list(2,3,4,5,6,7)\n",
    "my_list <- list(c(1,2,3,4,5),\"ABC\",\"XYZ\", c('A','C'), l1)\n",
    "my_list"
   ]
  },
  {
   "cell_type": "code",
   "execution_count": 48,
   "metadata": {
    "collapsed": true
   },
   "outputs": [],
   "source": [
    "names(my_list) <- c(1,2,3,4,5)"
   ]
  },
  {
   "cell_type": "code",
   "execution_count": 49,
   "metadata": {},
   "outputs": [
    {
     "data": {
      "text/html": [
       "<dl>\n",
       "\t<dt>$`1`</dt>\n",
       "\t\t<dd><ol class=list-inline>\n",
       "\t<li>1</li>\n",
       "\t<li>2</li>\n",
       "\t<li>3</li>\n",
       "\t<li>4</li>\n",
       "\t<li>5</li>\n",
       "</ol>\n",
       "</dd>\n",
       "\t<dt>$`2`</dt>\n",
       "\t\t<dd>'ABC'</dd>\n",
       "\t<dt>$`3`</dt>\n",
       "\t\t<dd>'XYZ'</dd>\n",
       "\t<dt>$`4`</dt>\n",
       "\t\t<dd><ol class=list-inline>\n",
       "\t<li>'A'</li>\n",
       "\t<li>'C'</li>\n",
       "</ol>\n",
       "</dd>\n",
       "\t<dt>$`5`</dt>\n",
       "\t\t<dd><ol>\n",
       "\t<li>2</li>\n",
       "\t<li>3</li>\n",
       "\t<li>4</li>\n",
       "\t<li>5</li>\n",
       "\t<li>6</li>\n",
       "\t<li>7</li>\n",
       "</ol>\n",
       "</dd>\n",
       "</dl>\n"
      ],
      "text/latex": [
       "\\begin{description}\n",
       "\\item[\\$`1`] \\begin{enumerate*}\n",
       "\\item 1\n",
       "\\item 2\n",
       "\\item 3\n",
       "\\item 4\n",
       "\\item 5\n",
       "\\end{enumerate*}\n",
       "\n",
       "\\item[\\$`2`] 'ABC'\n",
       "\\item[\\$`3`] 'XYZ'\n",
       "\\item[\\$`4`] \\begin{enumerate*}\n",
       "\\item 'A'\n",
       "\\item 'C'\n",
       "\\end{enumerate*}\n",
       "\n",
       "\\item[\\$`5`] \\begin{enumerate}\n",
       "\\item 2\n",
       "\\item 3\n",
       "\\item 4\n",
       "\\item 5\n",
       "\\item 6\n",
       "\\item 7\n",
       "\\end{enumerate}\n",
       "\n",
       "\\end{description}\n"
      ],
      "text/markdown": [
       "$`1`\n",
       ":   1. 1\n",
       "2. 2\n",
       "3. 3\n",
       "4. 4\n",
       "5. 5\n",
       "\n",
       "\n",
       "\n",
       "$`2`\n",
       ":   'ABC'\n",
       "$`3`\n",
       ":   'XYZ'\n",
       "$`4`\n",
       ":   1. 'A'\n",
       "2. 'C'\n",
       "\n",
       "\n",
       "\n",
       "$`5`\n",
       ":   1. 2\n",
       "2. 3\n",
       "3. 4\n",
       "4. 5\n",
       "5. 6\n",
       "6. 7\n",
       "\n",
       "\n",
       "\n",
       "\n",
       "\n"
      ],
      "text/plain": [
       "$`1`\n",
       "[1] 1 2 3 4 5\n",
       "\n",
       "$`2`\n",
       "[1] \"ABC\"\n",
       "\n",
       "$`3`\n",
       "[1] \"XYZ\"\n",
       "\n",
       "$`4`\n",
       "[1] \"A\" \"C\"\n",
       "\n",
       "$`5`\n",
       "$`5`[[1]]\n",
       "[1] 2\n",
       "\n",
       "$`5`[[2]]\n",
       "[1] 3\n",
       "\n",
       "$`5`[[3]]\n",
       "[1] 4\n",
       "\n",
       "$`5`[[4]]\n",
       "[1] 5\n",
       "\n",
       "$`5`[[5]]\n",
       "[1] 6\n",
       "\n",
       "$`5`[[6]]\n",
       "[1] 7\n",
       "\n"
      ]
     },
     "metadata": {},
     "output_type": "display_data"
    }
   ],
   "source": [
    "my_list"
   ]
  },
  {
   "cell_type": "code",
   "execution_count": 53,
   "metadata": {},
   "outputs": [
    {
     "data": {
      "text/html": [
       "'ABC'"
      ],
      "text/latex": [
       "'ABC'"
      ],
      "text/markdown": [
       "'ABC'"
      ],
      "text/plain": [
       "[1] \"ABC\""
      ]
     },
     "metadata": {},
     "output_type": "display_data"
    }
   ],
   "source": [
    "my_list[[2]]"
   ]
  },
  {
   "cell_type": "code",
   "execution_count": 55,
   "metadata": {},
   "outputs": [
    {
     "data": {
      "text/html": [
       "<ol class=list-inline>\n",
       "\t<li>'A'</li>\n",
       "\t<li>'C'</li>\n",
       "</ol>\n"
      ],
      "text/latex": [
       "\\begin{enumerate*}\n",
       "\\item 'A'\n",
       "\\item 'C'\n",
       "\\end{enumerate*}\n"
      ],
      "text/markdown": [
       "1. 'A'\n",
       "2. 'C'\n",
       "\n",
       "\n"
      ],
      "text/plain": [
       "[1] \"A\" \"C\""
      ]
     },
     "metadata": {},
     "output_type": "display_data"
    }
   ],
   "source": [
    "my_list$'4'"
   ]
  },
  {
   "cell_type": "code",
   "execution_count": 58,
   "metadata": {},
   "outputs": [
    {
     "name": "stdout",
     "output_type": "stream",
     "text": [
      "[1] 1 2 3 4 5\n",
      "[1] \"ABC\"\n",
      "[1] \"XYZ\"\n",
      "[1] \"A\" \"C\"\n",
      "[[1]]\n",
      "[1] 2\n",
      "\n",
      "[[2]]\n",
      "[1] 3\n",
      "\n",
      "[[3]]\n",
      "[1] 4\n",
      "\n",
      "[[4]]\n",
      "[1] 5\n",
      "\n",
      "[[5]]\n",
      "[1] 6\n",
      "\n",
      "[[6]]\n",
      "[1] 7\n",
      "\n"
     ]
    }
   ],
   "source": [
    "for (var in my_list){\n",
    "    print(var)\n",
    "}"
   ]
  },
  {
   "cell_type": "code",
   "execution_count": 59,
   "metadata": {},
   "outputs": [
    {
     "name": "stdout",
     "output_type": "stream",
     "text": [
      "[1] 1\n",
      "[1] 2\n"
     ]
    }
   ],
   "source": [
    "for(v in 1:nrow(mat)){\n",
    "    print(v)\n",
    "}"
   ]
  },
  {
   "cell_type": "code",
   "execution_count": 60,
   "metadata": {},
   "outputs": [
    {
     "name": "stderr",
     "output_type": "stream",
     "text": [
      "Warning message in 1:col(mat):\n",
      "“numerical expression has 6 elements: only the first used”"
     ]
    },
    {
     "name": "stdout",
     "output_type": "stream",
     "text": [
      "[1] 1\n"
     ]
    }
   ],
   "source": [
    "for(v in 1:col(mat)){\n",
    "    print(v)\n",
    "}"
   ]
  },
  {
   "cell_type": "code",
   "execution_count": 61,
   "metadata": {},
   "outputs": [
    {
     "name": "stdout",
     "output_type": "stream",
     "text": [
      "[1] 9\n",
      "[1] 8\n",
      "[1] 7\n",
      "[1] 6\n",
      "[1] 5\n",
      "[1] 4\n",
      "[1] 3\n",
      "[1] 2\n",
      "[1] 1\n",
      "[1] 0\n"
     ]
    }
   ],
   "source": [
    "vec <- c(9,8,7,6,5,4,3,2,1,0)\n",
    "for(i in vec){\n",
    "    print(i)\n",
    "}"
   ]
  },
  {
   "cell_type": "code",
   "execution_count": 62,
   "metadata": {},
   "outputs": [
    {
     "name": "stderr",
     "output_type": "stream",
     "text": [
      "Warning message in while (vec < 5) {:\n",
      "“the condition has length > 1 and only the first element will be used”"
     ]
    }
   ],
   "source": [
    "while(vec < 5){\n",
    "    print(vec)\n",
    "}"
   ]
  },
  {
   "cell_type": "code",
   "execution_count": 63,
   "metadata": {},
   "outputs": [
    {
     "data": {
      "text/html": [
       "55"
      ],
      "text/latex": [
       "55"
      ],
      "text/markdown": [
       "55"
      ],
      "text/plain": [
       "[1] 55"
      ]
     },
     "metadata": {},
     "output_type": "display_data"
    }
   ],
   "source": [
    "#nested functions\n",
    "mean(sum(1:10))"
   ]
  },
  {
   "cell_type": "code",
   "execution_count": 65,
   "metadata": {},
   "outputs": [
    {
     "data": {
      "text/html": [
       "<ol class=list-inline>\n",
       "\t<li>1</li>\n",
       "\t<li>2</li>\n",
       "\t<li>3</li>\n",
       "\t<li>4</li>\n",
       "\t<li>5</li>\n",
       "\t<li>6</li>\n",
       "\t<li>7</li>\n",
       "\t<li>8</li>\n",
       "\t<li>9</li>\n",
       "</ol>\n"
      ],
      "text/latex": [
       "\\begin{enumerate*}\n",
       "\\item 1\n",
       "\\item 2\n",
       "\\item 3\n",
       "\\item 4\n",
       "\\item 5\n",
       "\\item 6\n",
       "\\item 7\n",
       "\\item 8\n",
       "\\item 9\n",
       "\\end{enumerate*}\n"
      ],
      "text/markdown": [
       "1. 1\n",
       "2. 2\n",
       "3. 3\n",
       "4. 4\n",
       "5. 5\n",
       "6. 6\n",
       "7. 7\n",
       "8. 8\n",
       "9. 9\n",
       "\n",
       "\n"
      ],
      "text/plain": [
       "[1] 1 2 3 4 5 6 7 8 9"
      ]
     },
     "metadata": {},
     "output_type": "display_data"
    }
   ],
   "source": [
    "seq <- 1:9\n",
    "seq"
   ]
  },
  {
   "cell_type": "code",
   "execution_count": 67,
   "metadata": {},
   "outputs": [
    {
     "data": {
      "text/html": [
       "4"
      ],
      "text/latex": [
       "4"
      ],
      "text/markdown": [
       "4"
      ],
      "text/plain": [
       "[1] 4"
      ]
     },
     "metadata": {},
     "output_type": "display_data"
    }
   ],
   "source": [
    "squ <- function(x){\n",
    "    return(x*x)\n",
    "}\n",
    "squ(2)"
   ]
  },
  {
   "cell_type": "code",
   "execution_count": 68,
   "metadata": {
    "collapsed": true
   },
   "outputs": [],
   "source": [
    "da <- 1:5"
   ]
  },
  {
   "cell_type": "code",
   "execution_count": 70,
   "metadata": {},
   "outputs": [
    {
     "data": {
      "text/html": [
       "<ol>\n",
       "\t<li>1</li>\n",
       "\t<li>4</li>\n",
       "\t<li>9</li>\n",
       "\t<li>16</li>\n",
       "\t<li>25</li>\n",
       "</ol>\n"
      ],
      "text/latex": [
       "\\begin{enumerate}\n",
       "\\item 1\n",
       "\\item 4\n",
       "\\item 9\n",
       "\\item 16\n",
       "\\item 25\n",
       "\\end{enumerate}\n"
      ],
      "text/markdown": [
       "1. 1\n",
       "2. 4\n",
       "3. 9\n",
       "4. 16\n",
       "5. 25\n",
       "\n",
       "\n"
      ],
      "text/plain": [
       "[[1]]\n",
       "[1] 1\n",
       "\n",
       "[[2]]\n",
       "[1] 4\n",
       "\n",
       "[[3]]\n",
       "[1] 9\n",
       "\n",
       "[[4]]\n",
       "[1] 16\n",
       "\n",
       "[[5]]\n",
       "[1] 25\n"
      ]
     },
     "metadata": {},
     "output_type": "display_data"
    }
   ],
   "source": [
    "l2 <- lapply(da, squ) # output is always a list\n",
    "l2"
   ]
  },
  {
   "cell_type": "code",
   "execution_count": 71,
   "metadata": {},
   "outputs": [
    {
     "data": {
      "text/html": [
       "<ol>\n",
       "\t<li>9</li>\n",
       "</ol>\n"
      ],
      "text/latex": [
       "\\begin{enumerate}\n",
       "\\item 9\n",
       "\\end{enumerate}\n"
      ],
      "text/markdown": [
       "1. 9\n",
       "\n",
       "\n"
      ],
      "text/plain": [
       "[[1]]\n",
       "[1] 9\n"
      ]
     },
     "metadata": {},
     "output_type": "display_data"
    }
   ],
   "source": [
    "l2[3]"
   ]
  },
  {
   "cell_type": "code",
   "execution_count": 72,
   "metadata": {},
   "outputs": [
    {
     "data": {
      "text/html": [
       "<ol>\n",
       "\t<li>1</li>\n",
       "\t<li>8</li>\n",
       "\t<li>27</li>\n",
       "\t<li>64</li>\n",
       "\t<li>125</li>\n",
       "</ol>\n"
      ],
      "text/latex": [
       "\\begin{enumerate}\n",
       "\\item 1\n",
       "\\item 8\n",
       "\\item 27\n",
       "\\item 64\n",
       "\\item 125\n",
       "\\end{enumerate}\n"
      ],
      "text/markdown": [
       "1. 1\n",
       "2. 8\n",
       "3. 27\n",
       "4. 64\n",
       "5. 125\n",
       "\n",
       "\n"
      ],
      "text/plain": [
       "[[1]]\n",
       "[1] 1\n",
       "\n",
       "[[2]]\n",
       "[1] 8\n",
       "\n",
       "[[3]]\n",
       "[1] 27\n",
       "\n",
       "[[4]]\n",
       "[1] 64\n",
       "\n",
       "[[5]]\n",
       "[1] 125\n"
      ]
     },
     "metadata": {},
     "output_type": "display_data"
    }
   ],
   "source": [
    "#lapply with annonymous function\n",
    "lapply(da, function(x) {x*x*x})"
   ]
  },
  {
   "cell_type": "code",
   "execution_count": 75,
   "metadata": {},
   "outputs": [
    {
     "data": {
      "text/html": [
       "<ol class=list-inline>\n",
       "\t<li>2</li>\n",
       "\t<li>4</li>\n",
       "\t<li>6</li>\n",
       "\t<li>8</li>\n",
       "\t<li>10</li>\n",
       "</ol>\n"
      ],
      "text/latex": [
       "\\begin{enumerate*}\n",
       "\\item 2\n",
       "\\item 4\n",
       "\\item 6\n",
       "\\item 8\n",
       "\\item 10\n",
       "\\end{enumerate*}\n"
      ],
      "text/markdown": [
       "1. 2\n",
       "2. 4\n",
       "3. 6\n",
       "4. 8\n",
       "5. 10\n",
       "\n",
       "\n"
      ],
      "text/plain": [
       "[1]  2  4  6  8 10"
      ]
     },
     "metadata": {},
     "output_type": "display_data"
    }
   ],
   "source": [
    "#O/P is Array\n",
    "#O/P depends upon I/P type. Try to simplyfy list to array\n",
    "A <- sapply(da, function(x) {2*x})\n",
    "A"
   ]
  },
  {
   "cell_type": "code",
   "execution_count": 76,
   "metadata": {},
   "outputs": [
    {
     "data": {
      "text/html": [
       "4"
      ],
      "text/latex": [
       "4"
      ],
      "text/markdown": [
       "4"
      ],
      "text/plain": [
       "[1] 4"
      ]
     },
     "metadata": {},
     "output_type": "display_data"
    }
   ],
   "source": [
    "A[2]"
   ]
  },
  {
   "cell_type": "code",
   "execution_count": 78,
   "metadata": {},
   "outputs": [
    {
     "data": {
      "text/html": [
       "<ol class=list-inline>\n",
       "\t<li>1</li>\n",
       "\t<li>4</li>\n",
       "\t<li>9</li>\n",
       "\t<li>16</li>\n",
       "\t<li>25</li>\n",
       "</ol>\n"
      ],
      "text/latex": [
       "\\begin{enumerate*}\n",
       "\\item 1\n",
       "\\item 4\n",
       "\\item 9\n",
       "\\item 16\n",
       "\\item 25\n",
       "\\end{enumerate*}\n"
      ],
      "text/markdown": [
       "1. 1\n",
       "2. 4\n",
       "3. 9\n",
       "4. 16\n",
       "5. 25\n",
       "\n",
       "\n"
      ],
      "text/plain": [
       "[1]  1  4  9 16 25"
      ]
     },
     "metadata": {},
     "output_type": "display_data"
    }
   ],
   "source": [
    "#apply function over list or vector explicitly. Specify O/P data format\n",
    "va <- vapply(X = da, squ, numeric(1))\n",
    "va"
   ]
  },
  {
   "cell_type": "code",
   "execution_count": 79,
   "metadata": {},
   "outputs": [
    {
     "data": {
      "text/html": [
       "<ol class=list-inline>\n",
       "\t<li>1</li>\n",
       "\t<li>2</li>\n",
       "\t<li>3</li>\n",
       "\t<li>4</li>\n",
       "\t<li>5</li>\n",
       "</ol>\n"
      ],
      "text/latex": [
       "\\begin{enumerate*}\n",
       "\\item 1\n",
       "\\item 2\n",
       "\\item 3\n",
       "\\item 4\n",
       "\\item 5\n",
       "\\end{enumerate*}\n"
      ],
      "text/markdown": [
       "1. 1\n",
       "2. 2\n",
       "3. 3\n",
       "4. 4\n",
       "5. 5\n",
       "\n",
       "\n"
      ],
      "text/plain": [
       "[1] 1 2 3 4 5"
      ]
     },
     "metadata": {},
     "output_type": "display_data"
    }
   ],
   "source": [
    "seq(da)"
   ]
  },
  {
   "cell_type": "code",
   "execution_count": 80,
   "metadata": {},
   "outputs": [
    {
     "data": {
      "text/html": [
       "<ol class=list-inline>\n",
       "\t<li>1</li>\n",
       "\t<li>2</li>\n",
       "\t<li>3</li>\n",
       "\t<li>4</li>\n",
       "\t<li>5</li>\n",
       "\t<li>10</li>\n",
       "\t<li>11</li>\n",
       "\t<li>12</li>\n",
       "\t<li>13</li>\n",
       "</ol>\n"
      ],
      "text/latex": [
       "\\begin{enumerate*}\n",
       "\\item 1\n",
       "\\item 2\n",
       "\\item 3\n",
       "\\item 4\n",
       "\\item 5\n",
       "\\item 10\n",
       "\\item 11\n",
       "\\item 12\n",
       "\\item 13\n",
       "\\end{enumerate*}\n"
      ],
      "text/markdown": [
       "1. 1\n",
       "2. 2\n",
       "3. 3\n",
       "4. 4\n",
       "5. 5\n",
       "6. 10\n",
       "7. 11\n",
       "8. 12\n",
       "9. 13\n",
       "\n",
       "\n"
      ],
      "text/plain": [
       "[1]  1  2  3  4  5 10 11 12 13"
      ]
     },
     "metadata": {},
     "output_type": "display_data"
    }
   ],
   "source": [
    "append(da, c(10,11,12,13))"
   ]
  },
  {
   "cell_type": "code",
   "execution_count": 85,
   "metadata": {},
   "outputs": [
    {
     "data": {
      "text/html": [
       "'double'"
      ],
      "text/latex": [
       "'double'"
      ],
      "text/markdown": [
       "'double'"
      ],
      "text/plain": [
       "[1] \"double\""
      ]
     },
     "metadata": {},
     "output_type": "display_data"
    }
   ],
   "source": [
    "typeof(a<- 5)"
   ]
  },
  {
   "cell_type": "code",
   "execution_count": 86,
   "metadata": {},
   "outputs": [
    {
     "data": {
      "text/html": [
       "'integer'"
      ],
      "text/latex": [
       "'integer'"
      ],
      "text/markdown": [
       "'integer'"
      ],
      "text/plain": [
       "[1] \"integer\""
      ]
     },
     "metadata": {},
     "output_type": "display_data"
    }
   ],
   "source": [
    "typeof(da)"
   ]
  },
  {
   "cell_type": "code",
   "execution_count": 87,
   "metadata": {},
   "outputs": [
    {
     "data": {
      "text/html": [
       "'list'"
      ],
      "text/latex": [
       "'list'"
      ],
      "text/markdown": [
       "'list'"
      ],
      "text/plain": [
       "[1] \"list\""
      ]
     },
     "metadata": {},
     "output_type": "display_data"
    }
   ],
   "source": [
    "typeof(my_list)"
   ]
  },
  {
   "cell_type": "code",
   "execution_count": 88,
   "metadata": {
    "collapsed": true
   },
   "outputs": [],
   "source": [
    "l3 <- list(516,777,469)"
   ]
  },
  {
   "cell_type": "code",
   "execution_count": 89,
   "metadata": {},
   "outputs": [
    {
     "data": {
      "text/html": [
       "<ol>\n",
       "\t<li>516</li>\n",
       "\t<li>777</li>\n",
       "\t<li>469</li>\n",
       "</ol>\n"
      ],
      "text/latex": [
       "\\begin{enumerate}\n",
       "\\item 516\n",
       "\\item 777\n",
       "\\item 469\n",
       "\\end{enumerate}\n"
      ],
      "text/markdown": [
       "1. 516\n",
       "2. 777\n",
       "3. 469\n",
       "\n",
       "\n"
      ],
      "text/plain": [
       "[[1]]\n",
       "[1] 516\n",
       "\n",
       "[[2]]\n",
       "[1] 777\n",
       "\n",
       "[[3]]\n",
       "[1] 469\n"
      ]
     },
     "metadata": {},
     "output_type": "display_data"
    }
   ],
   "source": [
    "l3"
   ]
  },
  {
   "cell_type": "code",
   "execution_count": 91,
   "metadata": {},
   "outputs": [
    {
     "data": {
      "text/html": [
       "<ol class=list-inline>\n",
       "\t<li>516</li>\n",
       "\t<li>777</li>\n",
       "\t<li>469</li>\n",
       "</ol>\n"
      ],
      "text/latex": [
       "\\begin{enumerate*}\n",
       "\\item 516\n",
       "\\item 777\n",
       "\\item 469\n",
       "\\end{enumerate*}\n"
      ],
      "text/markdown": [
       "1. 516\n",
       "2. 777\n",
       "3. 469\n",
       "\n",
       "\n"
      ],
      "text/plain": [
       "[1] 516 777 469"
      ]
     },
     "metadata": {},
     "output_type": "display_data"
    }
   ],
   "source": [
    "u <- unlist(l3) \n",
    "u"
   ]
  },
  {
   "cell_type": "code",
   "execution_count": 92,
   "metadata": {},
   "outputs": [
    {
     "data": {
      "text/html": [
       "'double'"
      ],
      "text/latex": [
       "'double'"
      ],
      "text/markdown": [
       "'double'"
      ],
      "text/plain": [
       "[1] \"double\""
      ]
     },
     "metadata": {},
     "output_type": "display_data"
    }
   ],
   "source": [
    "typeof(u)"
   ]
  },
  {
   "cell_type": "code",
   "execution_count": 96,
   "metadata": {
    "collapsed": true
   },
   "outputs": [],
   "source": [
    "g <- c(2,4,6,9)"
   ]
  },
  {
   "cell_type": "code",
   "execution_count": 97,
   "metadata": {},
   "outputs": [
    {
     "data": {
      "text/html": [
       "<ol class=list-inline>\n",
       "\t<li>2</li>\n",
       "\t<li>4</li>\n",
       "\t<li>6</li>\n",
       "\t<li>9</li>\n",
       "</ol>\n"
      ],
      "text/latex": [
       "\\begin{enumerate*}\n",
       "\\item 2\n",
       "\\item 4\n",
       "\\item 6\n",
       "\\item 9\n",
       "\\end{enumerate*}\n"
      ],
      "text/markdown": [
       "1. 2\n",
       "2. 4\n",
       "3. 6\n",
       "4. 9\n",
       "\n",
       "\n"
      ],
      "text/plain": [
       "[1] 2 4 6 9"
      ]
     },
     "metadata": {},
     "output_type": "display_data"
    }
   ],
   "source": [
    "g"
   ]
  },
  {
   "cell_type": "code",
   "execution_count": 99,
   "metadata": {},
   "outputs": [
    {
     "data": {
      "text/html": [
       "<ol class=list-inline>\n",
       "\t<li>'2'</li>\n",
       "\t<li>'4'</li>\n",
       "\t<li>'6'</li>\n",
       "\t<li>'9'</li>\n",
       "</ol>\n"
      ],
      "text/latex": [
       "\\begin{enumerate*}\n",
       "\\item '2'\n",
       "\\item '4'\n",
       "\\item '6'\n",
       "\\item '9'\n",
       "\\end{enumerate*}\n"
      ],
      "text/markdown": [
       "1. '2'\n",
       "2. '4'\n",
       "3. '6'\n",
       "4. '9'\n",
       "\n",
       "\n"
      ],
      "text/plain": [
       "[1] \"2\" \"4\" \"6\" \"9\""
      ]
     },
     "metadata": {},
     "output_type": "display_data"
    }
   ],
   "source": [
    "as.character(g)"
   ]
  },
  {
   "cell_type": "code",
   "execution_count": null,
   "metadata": {
    "collapsed": true
   },
   "outputs": [],
   "source": []
  }
 ],
 "metadata": {
  "kernelspec": {
   "display_name": "R",
   "language": "R",
   "name": "ir"
  },
  "language_info": {
   "codemirror_mode": "r",
   "file_extension": ".r",
   "mimetype": "text/x-r-source",
   "name": "R",
   "pygments_lexer": "r",
   "version": "3.5.1"
  }
 },
 "nbformat": 4,
 "nbformat_minor": 2
}
